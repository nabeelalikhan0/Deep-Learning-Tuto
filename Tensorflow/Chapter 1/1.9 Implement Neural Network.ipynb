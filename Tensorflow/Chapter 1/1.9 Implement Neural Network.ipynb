{
 "cells": [
  {
   "cell_type": "markdown",
   "id": "322f6f72",
   "metadata": {},
   "source": [
    "# Implementing a Neural Network\n",
    "**In this we will build our own neural network class using pure python**"
   ]
  },
  {
   "cell_type": "code",
   "execution_count": null,
   "id": "4c86013c",
   "metadata": {},
   "outputs": [],
   "source": [
    "import numpy as np\n",
    "import pandas as pd\n",
    "import tensorflow as tf\n",
    "from tensorflow import keras\n",
    "import matplotlib.pyplot as plt"
   ]
  },
  {
   "cell_type": "code",
   "execution_count": null,
   "id": "a97e384d",
   "metadata": {},
   "outputs": [
    {
     "data": {
      "text/html": [
       "<div>\n",
       "<style scoped>\n",
       "    .dataframe tbody tr th:only-of-type {\n",
       "        vertical-align: middle;\n",
       "    }\n",
       "\n",
       "    .dataframe tbody tr th {\n",
       "        vertical-align: top;\n",
       "    }\n",
       "\n",
       "    .dataframe thead th {\n",
       "        text-align: right;\n",
       "    }\n",
       "</style>\n",
       "<table border=\"1\" class=\"dataframe\">\n",
       "  <thead>\n",
       "    <tr style=\"text-align: right;\">\n",
       "      <th></th>\n",
       "      <th>age</th>\n",
       "      <th>affordibility</th>\n",
       "      <th>bought_insurance</th>\n",
       "    </tr>\n",
       "  </thead>\n",
       "  <tbody>\n",
       "    <tr>\n",
       "      <th>0</th>\n",
       "      <td>22</td>\n",
       "      <td>1</td>\n",
       "      <td>0</td>\n",
       "    </tr>\n",
       "    <tr>\n",
       "      <th>1</th>\n",
       "      <td>25</td>\n",
       "      <td>0</td>\n",
       "      <td>0</td>\n",
       "    </tr>\n",
       "    <tr>\n",
       "      <th>2</th>\n",
       "      <td>47</td>\n",
       "      <td>1</td>\n",
       "      <td>1</td>\n",
       "    </tr>\n",
       "    <tr>\n",
       "      <th>3</th>\n",
       "      <td>52</td>\n",
       "      <td>0</td>\n",
       "      <td>0</td>\n",
       "    </tr>\n",
       "    <tr>\n",
       "      <th>4</th>\n",
       "      <td>46</td>\n",
       "      <td>1</td>\n",
       "      <td>1</td>\n",
       "    </tr>\n",
       "  </tbody>\n",
       "</table>\n",
       "</div>"
      ],
      "text/plain": [
       "   age  affordibility  bought_insurance\n",
       "0   22              1                 0\n",
       "1   25              0                 0\n",
       "2   47              1                 1\n",
       "3   52              0                 0\n",
       "4   46              1                 1"
      ]
     },
     "execution_count": 35,
     "metadata": {},
     "output_type": "execute_result"
    }
   ],
   "source": [
    "df = pd.read_csv(\"../../Datasets/insurance_data.csv\")\n",
    "df.head()"
   ]
  },
  {
   "cell_type": "markdown",
   "id": "5da3e5c8",
   "metadata": {},
   "source": [
    "#### Here in this file we will import code from out previous file Tensorflow\\1.8 Gradient Descent.ipynb"
   ]
  },
  {
   "cell_type": "code",
   "execution_count": null,
   "id": "99050200",
   "metadata": {},
   "outputs": [],
   "source": [
    "def sigmoid_numpy(X):\n",
    "    return 1/(1 + np.exp(-X))\n",
    "\n",
    "\n",
    "def log_loss(y_true,y_pred):\n",
    "    eplision = 1e-15\n",
    "    y_pred_new = [max(i,eplision) for i in y_pred]\n",
    "    y_pred_new = [min(i,eplision) for i in y_pred_new]\n",
    "    y_pred_new = np.array(y_pred_new)\n",
    "    return -np.mean(y_true * np.log(y_pred_new) + (1 - y_true) + np.log(1 - y_pred_new))"
   ]
  },
  {
   "cell_type": "code",
   "execution_count": 53,
   "id": "50aba035",
   "metadata": {},
   "outputs": [],
   "source": [
    "class myNN: # my neural network\n",
    "    def __init__(self):\n",
    "        self.w1 = 1\n",
    "        self.w2 = 1\n",
    "        self.bias = 0\n",
    "\n",
    "    def fit(self, X, y ,epochs,loss_threshold):\n",
    "        self.w1, self.w2, self.bias = self.gradient_descent(X['age'], X['affordibility'], y, epochs, loss_threshold)\n",
    "\n",
    "    def predict(self, X_test):\n",
    "        weighted_sum = self.w1 * X_test['age'] + self.w2 * X_test['affordibility'] + self.bias\n",
    "        return sigmoid_numpy(weighted_sum)\n",
    "\n",
    "\n",
    "    def gradient_descent(self, age,affordibility,y_true,epochs,loss_threshold):\n",
    "        w1 = w2 = 1\n",
    "        bias = 0\n",
    "        rate = 0.5\n",
    "        n = len(age)\n",
    "\n",
    "        for i in range(epochs):\n",
    "            weighted_sum = w1 * age + w2 * affordibility + bias\n",
    "            y_predicted = sigmoid_numpy(weighted_sum)\n",
    "\n",
    "            loss = log_loss(y_true,y_predicted)\n",
    "\n",
    "            w1d = (1/n) * np.dot(np.transpose(age),(y_predicted - y_true))\n",
    "            w2d = (1/n) * np.dot(np.transpose(affordibility),(y_predicted - y_true))\n",
    "\n",
    "            bias_d = np.mean(y_predicted - y_true)\n",
    "\n",
    "            w1 -= rate * w1d\n",
    "            w2 -= rate * w2d\n",
    "            bias -= rate * bias_d\n",
    "\n",
    "\n",
    "            if i%50==0:\n",
    "                print(f'Epoch {i}, w1 {w1}, w2 {w2}, bias {bias}, loss {loss}')\n",
    "\n",
    "\n",
    "            if loss < loss_threshold:\n",
    "                print(f'Loss threshold reached at epoch {i}')\n",
    "                print(f'Epoch {i}, w1 {w1}, w2 {w2}, bias {bias}, loss {loss}')\n",
    "                break\n",
    "\n",
    "        return w1, w2, bias"
   ]
  },
  {
   "cell_type": "code",
   "execution_count": 54,
   "id": "2a83077d",
   "metadata": {},
   "outputs": [],
   "source": [
    "from sklearn.model_selection import train_test_split\n",
    "X_train,X_test,y_train,y_test = train_test_split(df[['age','affordibility']],df['bought_insurance'],test_size=0.2,random_state=43)"
   ]
  },
  {
   "cell_type": "code",
   "execution_count": 55,
   "id": "c7ec8153",
   "metadata": {},
   "outputs": [],
   "source": [
    "X_train_scale = X_train.copy()\n",
    "X_train_scale['age'] = X_train_scale['age'] / 100\n",
    "\n",
    "X_test_scale = X_test.copy()\n",
    "X_test_scale['age'] = X_test_scale['age'] / 100"
   ]
  },
  {
   "cell_type": "code",
   "execution_count": 56,
   "id": "fc56a1eb",
   "metadata": {},
   "outputs": [
    {
     "name": "stdout",
     "output_type": "stream",
     "text": [
      "Epoch 0, w1 0.9755342677219864, w2 0.9343049617339481, bias -0.1210471021515617, loss 16.76938819745534\n",
      "Epoch 50, w1 1.5878595611748771, w2 1.078828499079195, bias -1.3183594861140797, loss 16.76938819745534\n",
      "Epoch 100, w1 2.3357158354181538, w2 1.2996321882004958, bias -1.8103951804373446, loss 16.76938819745534\n",
      "Epoch 150, w1 3.029871573819802, w2 1.3930077974497816, bias -2.1729746061200017, loss 16.76938819745534\n",
      "Epoch 200, w1 3.6699646989210875, w2 1.4261674303859786, bias -2.461414301433154, loss 16.76938819745534\n",
      "Epoch 250, w1 4.258619276222539, w2 1.4299763859666712, bias -2.7030634055150937, loss 16.76938819745534\n",
      "Epoch 300, w1 4.799651102430389, w2 1.419671364872306, bias -2.9127567584918914, loss 16.76938819745534\n",
      "Epoch 350, w1 5.297227683853234, w2 1.4030656233491183, bias -3.0991196031616877, loss 16.76938819745534\n",
      "Epoch 400, w1 5.755456405605972, w2 1.3842099180238856, bias -3.267464804927147, loss 16.76938819745534\n",
      "Epoch 450, w1 6.178188550715242, w2 1.3651756964623034, bias -3.4212441679447583, loss 16.76938819745534\n",
      "Epoch 500, w1 6.568937966660542, w2 1.3469750006842613, bias -3.5628200068872227, loss 16.76938819745534\n",
      "Epoch 550, w1 6.930860989696413, w2 1.3300517617940288, bias -3.6938927232391676, loss 16.76938819745534\n",
      "Epoch 600, w1 7.266767993253687, w2 1.3145491691404663, bias -3.815745271015949, loss 16.76938819745534\n",
      "Epoch 650, w1 7.579149893254606, w2 1.300456273176931, bias -3.929386705688535, loss 16.76938819745534\n",
      "Epoch 700, w1 7.870210353641465, w2 1.2876882312170341, bias -4.035638688998038, loss 16.76938819745534\n",
      "Epoch 750, w1 8.141898725354071, w2 1.276129735848684, bias -4.135189078832016, loss 16.76938819745534\n",
      "Epoch 800, w1 8.395941219119056, w2 1.2656579522710372, bias -4.228626162601371, loss 16.76938819745534\n",
      "Epoch 850, w1 8.633869204506082, w2 1.2561540832873195, bias -4.316461282710355, loss 16.76938819745534\n",
      "Epoch 900, w1 8.857044289307115, w2 1.247508682736894, bias -4.399144349224112, loss 16.76938819745534\n",
      "Epoch 950, w1 9.066680230030377, w2 1.2396235967820861, bias -4.477074886190036, loss 16.76938819745534\n"
     ]
    }
   ],
   "source": [
    "custom_model = myNN()\n",
    "custom_model.fit(X_train_scale, y_train, epochs=1000, loss_threshold=0.4631)"
   ]
  },
  {
   "cell_type": "code",
   "execution_count": 57,
   "id": "2679d5fd",
   "metadata": {},
   "outputs": [
    {
     "data": {
      "text/plain": [
       "12    0.114156\n",
       "22    0.595653\n",
       "10    0.161133\n",
       "6     0.632705\n",
       "7     0.732401\n",
       "15    0.855250\n",
       "dtype: float64"
      ]
     },
     "execution_count": 57,
     "metadata": {},
     "output_type": "execute_result"
    }
   ],
   "source": [
    "custom_model.predict(X_test_scale)"
   ]
  },
  {
   "cell_type": "code",
   "execution_count": 58,
   "id": "b5cf871b",
   "metadata": {},
   "outputs": [
    {
     "data": {
      "text/plain": [
       "12    0\n",
       "22    1\n",
       "10    0\n",
       "6     0\n",
       "7     1\n",
       "15    1\n",
       "Name: bought_insurance, dtype: int64"
      ]
     },
     "execution_count": 58,
     "metadata": {},
     "output_type": "execute_result"
    }
   ],
   "source": [
    "y_test"
   ]
  },
  {
   "cell_type": "code",
   "execution_count": 61,
   "id": "5a4287b7",
   "metadata": {},
   "outputs": [
    {
     "name": "stdout",
     "output_type": "stream",
     "text": [
      "\u001b[1m1/1\u001b[0m \u001b[32m━━━━━━━━━━━━━━━━━━━━\u001b[0m\u001b[37m\u001b[0m \u001b[1m0s\u001b[0m 119ms/step\n"
     ]
    },
    {
     "data": {
      "text/plain": [
       "array([[0.17834583],\n",
       "       [0.60256636],\n",
       "       [0.3249999 ],\n",
       "       [0.48308071],\n",
       "       [0.5480989 ],\n",
       "       [0.7682142 ]], dtype=float32)"
      ]
     },
     "execution_count": 61,
     "metadata": {},
     "output_type": "execute_result"
    }
   ],
   "source": [
    "model = keras.models.load_model('../Models/insurance_model.keras')\n",
    "model.predict(X_test_scale)"
   ]
  }
 ],
 "metadata": {
  "kernelspec": {
   "display_name": "Python 3",
   "language": "python",
   "name": "python3"
  },
  "language_info": {
   "codemirror_mode": {
    "name": "ipython",
    "version": 3
   },
   "file_extension": ".py",
   "mimetype": "text/x-python",
   "name": "python",
   "nbconvert_exporter": "python",
   "pygments_lexer": "ipython3",
   "version": "3.11.7"
  }
 },
 "nbformat": 4,
 "nbformat_minor": 5
}
