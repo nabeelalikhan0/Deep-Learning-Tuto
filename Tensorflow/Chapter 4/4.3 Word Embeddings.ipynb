{
 "cells": [
  {
   "cell_type": "markdown",
   "id": "d7b3e169",
   "metadata": {},
   "source": [
    "\n",
    "---\n",
    "\n",
    "# 🧠 What is Word Embedding?\n",
    "\n",
    "---\n",
    "\n",
    "## 👶 Simple Definition:\n",
    "\n",
    "> Word Embedding is a way to **convert words into numbers** — but in a **smart** way.\n",
    "\n",
    "It’s like giving **each word** a **special fingerprint** made of numbers 🧬 so the computer can understand **meaning**, not just characters.\n",
    "\n",
    "---\n",
    "\n",
    "## ⚠️ Why Can't We Just Use Regular Numbers?\n",
    "\n",
    "Say we map:\n",
    "\n",
    "```\n",
    "\"cat\" → 1  \n",
    "\"dog\" → 2  \n",
    "\"car\" → 3\n",
    "```\n",
    "\n",
    "The problem is:\n",
    "🚫 These numbers don’t show any **relationship** between words.\n",
    "\n",
    "* Is **cat close to dog**? The computer doesn’t know. 😐\n",
    "* It thinks “cat” and “car” are equally different.\n",
    "\n",
    "✅ We need a system that **captures meaning and similarity**.\n",
    "\n",
    "---\n",
    "\n",
    "# 🎯 Enter: Word Embeddings\n",
    "\n",
    "Word Embedding turns each word into a **vector** (a list of numbers), like this:\n",
    "\n",
    "| Word | Vector (simplified example) |\n",
    "| ---- | --------------------------- |\n",
    "| cat  | \\[0.2, 0.1, 0.7]            |\n",
    "| dog  | \\[0.3, 0.1, 0.65]           |\n",
    "| car  | \\[0.9, 0.2, 0.1]            |\n",
    "\n",
    "Notice:\n",
    "\n",
    "* **Cat** and **dog** vectors are **similar**\n",
    "* **Car** is different\n",
    "\n",
    "✅ That’s what we want — **semantic meaning encoded in numbers**\n",
    "\n",
    "---\n",
    "\n",
    "# 📌 Embedding vs One-Hot Encoding\n",
    "\n",
    "| Feature          | One-Hot Encoding             | Word Embedding                        |\n",
    "| ---------------- | ---------------------------- | ------------------------------------- |\n",
    "| Shape            | Very large (1 for each word) | Small (like 100–300 numbers per word) |\n",
    "| Similarity Info  | ❌ No similarity info         | ✅ Encodes word meanings               |\n",
    "| Space Efficient? | ❌ No                         | ✅ Yes                                 |\n",
    "\n",
    "---\n",
    "\n",
    "# 🔬 How Word Embeddings Learn\n",
    "\n",
    "During training, the model learns to give:\n",
    "\n",
    "* **Similar vectors to similar words**\n",
    "* **Different vectors to different words**\n",
    "\n",
    "### 🎓 Examples:\n",
    "\n",
    "| Word 1 | Word 2 | Distance |\n",
    "| ------ | ------ | -------- |\n",
    "| king   | queen  | close ✅  |\n",
    "| king   | banana | far ❌    |\n",
    "| big    | large  | close ✅  |\n",
    "\n",
    "---\n",
    "\n",
    "# 🧪 Types of Word Embeddings\n",
    "\n",
    "| Type                          | Description                               |\n",
    "| ----------------------------- | ----------------------------------------- |\n",
    "| **Word2Vec**                  | Learns word meaning from context (Google) |\n",
    "| **GloVe**                     | Learns from global word counts (Stanford) |\n",
    "| **FastText**                  | Includes word sub-parts (Facebook)        |\n",
    "| **Trainable Embedding Layer** | Learn embeddings during training          |\n",
    "\n",
    "---\n",
    "\n",
    "# 📐 Example in Code (Keras Embedding Layer)\n",
    "\n",
    "```python\n",
    "from tensorflow.keras.models import Sequential\n",
    "from tensorflow.keras.layers import Embedding\n",
    "\n",
    "model = Sequential([\n",
    "    Embedding(input_dim=10000, output_dim=300, input_length=100)\n",
    "])\n",
    "```\n",
    "\n",
    "| Parameter      | Meaning                                 |\n",
    "| -------------- | --------------------------------------- |\n",
    "| `input_dim`    | Size of your vocabulary                 |\n",
    "| `output_dim`   | Size of the embedding vector (e.g. 300) |\n",
    "| `input_length` | Length of the input sequence            |\n",
    "\n",
    "---\n",
    "\n",
    "# 🧠 Cool Properties\n",
    "\n",
    "Word embeddings **capture relationships**:\n",
    "\n",
    "```\n",
    "king - man + woman ≈ queen\n",
    "```\n",
    "\n",
    "These are called **vector arithmetic of meaning** — and yes, it really works!\n",
    "\n",
    "---\n",
    "\n",
    "# 🧠 TL;DR Summary\n",
    "\n",
    "| Concept             | Meaning                                     |\n",
    "| ------------------- | ------------------------------------------- |\n",
    "| Word Embedding      | Smart vector representation of words        |\n",
    "| Purpose             | Let computers \"understand\" word meaning     |\n",
    "| Output              | Each word = dense vector (e.g., 300 floats) |\n",
    "| Similarity Encoding | Yes ✅                                       |\n",
    "| Used In             | NLP, chatbots, translation, sentiment, etc  |\n",
    "\n",
    "---\n",
    "\n",
    "# 👁️ Real-Life Analogy\n",
    "\n",
    "Think of words as **colors**.\n",
    "One-hot encoding is like labeling them “Color 1, Color 2...”\n",
    "❌ Doesn’t tell you **which ones are similar**.\n",
    "\n",
    "Word embeddings are like mixing **real RGB values**:\n",
    "\n",
    "* Red and pink are close\n",
    "* Red and green are far\n",
    "\n",
    "✅ They **capture relationships** and **meaning**\n",
    "\n",
    "---\n",
    "\n"
   ]
  },
  {
   "cell_type": "code",
   "execution_count": 1,
   "id": "4ea497fe",
   "metadata": {},
   "outputs": [],
   "source": [
    "import numpy as np\n",
    "from tensorflow.keras.models import Sequential\n",
    "from tensorflow.keras.layers import Dense,Flatten,Embedding\n",
    "from tensorflow.keras.preprocessing.text import one_hot\n",
    "from tensorflow.keras.preprocessing.sequence import pad_sequences\n"
   ]
  },
  {
   "cell_type": "code",
   "execution_count": 28,
   "id": "ac89fd9b",
   "metadata": {},
   "outputs": [],
   "source": [
    "reviews = ['nice food',\n",
    "'amazing restaurant',\n",
    "'too good',\n",
    "'just loved it!',\n",
    "'will go again',\n",
    "'horrible food',\n",
    "'never go there',\n",
    "'poor service',\n",
    "'poor quality',\n",
    "'needs improvement']\n",
    "\n",
    "sentiment = np.array([1,1,1,1,1,0,0,0,0,0])"
   ]
  },
  {
   "cell_type": "code",
   "execution_count": 29,
   "id": "34ed7aee",
   "metadata": {},
   "outputs": [
    {
     "data": {
      "text/plain": [
       "[19, 13]"
      ]
     },
     "execution_count": 29,
     "metadata": {},
     "output_type": "execute_result"
    }
   ],
   "source": [
    "one_hot(\"amazing restaurant\", 30) # Sentence ; hightest value (30)"
   ]
  },
  {
   "cell_type": "code",
   "execution_count": 30,
   "id": "72bcd73a",
   "metadata": {},
   "outputs": [
    {
     "name": "stdout",
     "output_type": "stream",
     "text": [
      "nice food\n",
      "amazing restaurant\n",
      "too good\n",
      "just loved it!\n",
      "will go again\n",
      "horrible food\n",
      "never go there\n",
      "poor service\n",
      "poor quality\n",
      "needs improvement\n"
     ]
    }
   ],
   "source": [
    "for d in reviews:\n",
    "    print(d)"
   ]
  },
  {
   "cell_type": "code",
   "execution_count": 49,
   "id": "541bd386",
   "metadata": {},
   "outputs": [
    {
     "data": {
      "text/plain": [
       "[[35, 31],\n",
       " [9, 38],\n",
       " [40, 34],\n",
       " [44, 27, 30],\n",
       " [12, 37, 10],\n",
       " [46, 31],\n",
       " [31, 37, 43],\n",
       " [37, 45],\n",
       " [37, 47],\n",
       " [15, 17]]"
      ]
     },
     "execution_count": 49,
     "metadata": {},
     "output_type": "execute_result"
    }
   ],
   "source": [
    "vocab_size = 50\n",
    "encoded_reviews = [one_hot(d,vocab_size) for d in reviews]\n",
    "encoded_reviews"
   ]
  },
  {
   "cell_type": "markdown",
   "id": "96d135cd",
   "metadata": {},
   "source": [
    "**Here look some sentences are two words long some are three and four so in order to make all of them align equal we will do padding**"
   ]
  },
  {
   "cell_type": "code",
   "execution_count": 50,
   "id": "106f534b",
   "metadata": {},
   "outputs": [
    {
     "data": {
      "text/plain": [
       "array([[35, 31,  0,  0],\n",
       "       [ 9, 38,  0,  0],\n",
       "       [40, 34,  0,  0],\n",
       "       [44, 27, 30,  0],\n",
       "       [12, 37, 10,  0],\n",
       "       [46, 31,  0,  0],\n",
       "       [31, 37, 43,  0],\n",
       "       [37, 45,  0,  0],\n",
       "       [37, 47,  0,  0],\n",
       "       [15, 17,  0,  0]], dtype=int32)"
      ]
     },
     "execution_count": 50,
     "metadata": {},
     "output_type": "execute_result"
    }
   ],
   "source": [
    "max_length = 4\n",
    "padding_reviews = pad_sequences(encoded_reviews,maxlen=max_length,padding='post')\n",
    "padding_reviews"
   ]
  },
  {
   "cell_type": "code",
   "execution_count": 51,
   "id": "9548b5d2",
   "metadata": {},
   "outputs": [
    {
     "name": "stderr",
     "output_type": "stream",
     "text": [
      "c:\\Users\\nabee\\AppData\\Local\\Programs\\Python\\Python39\\lib\\site-packages\\keras\\src\\layers\\core\\embedding.py:97: UserWarning: Argument `input_length` is deprecated. Just remove it.\n",
      "  warnings.warn(\n"
     ]
    }
   ],
   "source": [
    "embeded_vector_size = 4\n",
    "model = Sequential()\n",
    "model.add(Embedding(vocab_size, embeded_vector_size,input_length=max_length,name='embedding'))\n",
    "model.add(Flatten())\n",
    "model.add(Dense(1,activation='sigmoid'))"
   ]
  },
  {
   "cell_type": "code",
   "execution_count": 52,
   "id": "84907f24",
   "metadata": {},
   "outputs": [],
   "source": [
    "X = padding_reviews\n",
    "y = sentiment"
   ]
  },
  {
   "cell_type": "code",
   "execution_count": 53,
   "id": "b543f01f",
   "metadata": {},
   "outputs": [
    {
     "data": {
      "text/html": [
       "<pre style=\"white-space:pre;overflow-x:auto;line-height:normal;font-family:Menlo,'DejaVu Sans Mono',consolas,'Courier New',monospace\"><span style=\"font-weight: bold\">Model: \"sequential_5\"</span>\n",
       "</pre>\n"
      ],
      "text/plain": [
       "\u001b[1mModel: \"sequential_5\"\u001b[0m\n"
      ]
     },
     "metadata": {},
     "output_type": "display_data"
    },
    {
     "data": {
      "text/html": [
       "<pre style=\"white-space:pre;overflow-x:auto;line-height:normal;font-family:Menlo,'DejaVu Sans Mono',consolas,'Courier New',monospace\">┏━━━━━━━━━━━━━━━━━━━━━━━━━━━━━━━━━┳━━━━━━━━━━━━━━━━━━━━━━━━┳━━━━━━━━━━━━━━━┓\n",
       "┃<span style=\"font-weight: bold\"> Layer (type)                    </span>┃<span style=\"font-weight: bold\"> Output Shape           </span>┃<span style=\"font-weight: bold\">       Param # </span>┃\n",
       "┡━━━━━━━━━━━━━━━━━━━━━━━━━━━━━━━━━╇━━━━━━━━━━━━━━━━━━━━━━━━╇━━━━━━━━━━━━━━━┩\n",
       "│ embedding (<span style=\"color: #0087ff; text-decoration-color: #0087ff\">Embedding</span>)           │ ?                      │   <span style=\"color: #00af00; text-decoration-color: #00af00\">0</span> (unbuilt) │\n",
       "├─────────────────────────────────┼────────────────────────┼───────────────┤\n",
       "│ flatten_5 (<span style=\"color: #0087ff; text-decoration-color: #0087ff\">Flatten</span>)             │ ?                      │   <span style=\"color: #00af00; text-decoration-color: #00af00\">0</span> (unbuilt) │\n",
       "├─────────────────────────────────┼────────────────────────┼───────────────┤\n",
       "│ dense_5 (<span style=\"color: #0087ff; text-decoration-color: #0087ff\">Dense</span>)                 │ ?                      │   <span style=\"color: #00af00; text-decoration-color: #00af00\">0</span> (unbuilt) │\n",
       "└─────────────────────────────────┴────────────────────────┴───────────────┘\n",
       "</pre>\n"
      ],
      "text/plain": [
       "┏━━━━━━━━━━━━━━━━━━━━━━━━━━━━━━━━━┳━━━━━━━━━━━━━━━━━━━━━━━━┳━━━━━━━━━━━━━━━┓\n",
       "┃\u001b[1m \u001b[0m\u001b[1mLayer (type)                   \u001b[0m\u001b[1m \u001b[0m┃\u001b[1m \u001b[0m\u001b[1mOutput Shape          \u001b[0m\u001b[1m \u001b[0m┃\u001b[1m \u001b[0m\u001b[1m      Param #\u001b[0m\u001b[1m \u001b[0m┃\n",
       "┡━━━━━━━━━━━━━━━━━━━━━━━━━━━━━━━━━╇━━━━━━━━━━━━━━━━━━━━━━━━╇━━━━━━━━━━━━━━━┩\n",
       "│ embedding (\u001b[38;5;33mEmbedding\u001b[0m)           │ ?                      │   \u001b[38;5;34m0\u001b[0m (unbuilt) │\n",
       "├─────────────────────────────────┼────────────────────────┼───────────────┤\n",
       "│ flatten_5 (\u001b[38;5;33mFlatten\u001b[0m)             │ ?                      │   \u001b[38;5;34m0\u001b[0m (unbuilt) │\n",
       "├─────────────────────────────────┼────────────────────────┼───────────────┤\n",
       "│ dense_5 (\u001b[38;5;33mDense\u001b[0m)                 │ ?                      │   \u001b[38;5;34m0\u001b[0m (unbuilt) │\n",
       "└─────────────────────────────────┴────────────────────────┴───────────────┘\n"
      ]
     },
     "metadata": {},
     "output_type": "display_data"
    },
    {
     "data": {
      "text/html": [
       "<pre style=\"white-space:pre;overflow-x:auto;line-height:normal;font-family:Menlo,'DejaVu Sans Mono',consolas,'Courier New',monospace\"><span style=\"font-weight: bold\"> Total params: </span><span style=\"color: #00af00; text-decoration-color: #00af00\">0</span> (0.00 B)\n",
       "</pre>\n"
      ],
      "text/plain": [
       "\u001b[1m Total params: \u001b[0m\u001b[38;5;34m0\u001b[0m (0.00 B)\n"
      ]
     },
     "metadata": {},
     "output_type": "display_data"
    },
    {
     "data": {
      "text/html": [
       "<pre style=\"white-space:pre;overflow-x:auto;line-height:normal;font-family:Menlo,'DejaVu Sans Mono',consolas,'Courier New',monospace\"><span style=\"font-weight: bold\"> Trainable params: </span><span style=\"color: #00af00; text-decoration-color: #00af00\">0</span> (0.00 B)\n",
       "</pre>\n"
      ],
      "text/plain": [
       "\u001b[1m Trainable params: \u001b[0m\u001b[38;5;34m0\u001b[0m (0.00 B)\n"
      ]
     },
     "metadata": {},
     "output_type": "display_data"
    },
    {
     "data": {
      "text/html": [
       "<pre style=\"white-space:pre;overflow-x:auto;line-height:normal;font-family:Menlo,'DejaVu Sans Mono',consolas,'Courier New',monospace\"><span style=\"font-weight: bold\"> Non-trainable params: </span><span style=\"color: #00af00; text-decoration-color: #00af00\">0</span> (0.00 B)\n",
       "</pre>\n"
      ],
      "text/plain": [
       "\u001b[1m Non-trainable params: \u001b[0m\u001b[38;5;34m0\u001b[0m (0.00 B)\n"
      ]
     },
     "metadata": {},
     "output_type": "display_data"
    }
   ],
   "source": [
    "model.compile(\n",
    "    optimizer='adam',\n",
    "    loss='binary_crossentropy',\n",
    "    metrics=['accuracy']\n",
    ")\n",
    "\n",
    "model.summary()"
   ]
  },
  {
   "cell_type": "code",
   "execution_count": 54,
   "id": "052bd7f4",
   "metadata": {},
   "outputs": [
    {
     "data": {
      "text/plain": [
       "<keras.src.callbacks.history.History at 0x1cf91a8c5b0>"
      ]
     },
     "execution_count": 54,
     "metadata": {},
     "output_type": "execute_result"
    }
   ],
   "source": [
    "model.fit(X,y,epochs=50,verbose=0)"
   ]
  },
  {
   "cell_type": "code",
   "execution_count": 55,
   "id": "961c9615",
   "metadata": {},
   "outputs": [
    {
     "name": "stdout",
     "output_type": "stream",
     "text": [
      "\u001b[1m1/1\u001b[0m \u001b[32m━━━━━━━━━━━━━━━━━━━━\u001b[0m\u001b[37m\u001b[0m \u001b[1m0s\u001b[0m 101ms/step - accuracy: 1.0000 - loss: 0.6148\n"
     ]
    },
    {
     "data": {
      "text/plain": [
       "[0.6147929430007935, 1.0]"
      ]
     },
     "execution_count": 55,
     "metadata": {},
     "output_type": "execute_result"
    }
   ],
   "source": [
    "model.evaluate(X,y)"
   ]
  },
  {
   "cell_type": "code",
   "execution_count": 56,
   "id": "0c28cdcf",
   "metadata": {},
   "outputs": [
    {
     "name": "stdout",
     "output_type": "stream",
     "text": [
      "\u001b[1m1/1\u001b[0m \u001b[32m━━━━━━━━━━━━━━━━━━━━\u001b[0m\u001b[37m\u001b[0m \u001b[1m0s\u001b[0m 48ms/step\n"
     ]
    }
   ],
   "source": [
    "new = ['nice very good','its bad']\n",
    "\n",
    "new_encoded = [one_hot(d, vocab_size) for d in new]\n",
    "new_padded = pad_sequences(new_encoded, maxlen=max_length, padding='post')\n",
    "predictions = model.predict(new_padded)\n"
   ]
  },
  {
   "cell_type": "code",
   "execution_count": 57,
   "id": "2ddb5a91",
   "metadata": {},
   "outputs": [
    {
     "data": {
      "text/plain": [
       "array([[0.5339758],\n",
       "       [0.4973722]], dtype=float32)"
      ]
     },
     "execution_count": 57,
     "metadata": {},
     "output_type": "execute_result"
    }
   ],
   "source": [
    "predictions"
   ]
  },
  {
   "cell_type": "code",
   "execution_count": 58,
   "id": "b29b8da8",
   "metadata": {},
   "outputs": [
    {
     "data": {
      "text/plain": [
       "50"
      ]
     },
     "execution_count": 58,
     "metadata": {},
     "output_type": "execute_result"
    }
   ],
   "source": [
    "weights = model.get_layer('embedding').get_weights()[0]\n",
    "len(weights)"
   ]
  },
  {
   "attachments": {
    "image.png": {
     "image/png": "[encoded data removed]"
    }
   },
   "cell_type": "markdown",
   "id": "da6c2e27",
   "metadata": {},
   "source": [
    "![image.png](attachment:image.png)"
   ]
  },
  {
   "cell_type": "markdown",
   "id": "42d7e694",
   "metadata": {},
   "source": [
    "Look here at the word nice it got the number 35 and the word amazing got 9 so lets check it out"
   ]
  },
  {
   "cell_type": "code",
   "execution_count": 59,
   "id": "e48f598b",
   "metadata": {},
   "outputs": [
    {
     "data": {
      "text/plain": [
       "(array([ 0.06008631,  0.07495546, -0.09706304, -0.09019239], dtype=float32),\n",
       " array([ 0.06221096,  0.03997479, -0.0183009 , -0.02481999], dtype=float32))"
      ]
     },
     "execution_count": 59,
     "metadata": {},
     "output_type": "execute_result"
    }
   ],
   "source": [
    "weights[35],weights[9]"
   ]
  },
  {
   "cell_type": "markdown",
   "id": "e2f12107",
   "metadata": {},
   "source": [
    "Our dataset was very small that why these words are not that close but if you run it on a huge dataset then you will get similar vectors for similar words"
   ]
  },
  {
   "cell_type": "code",
   "execution_count": null,
   "id": "0a5248aa",
   "metadata": {},
   "outputs": [],
   "source": []
  }
 ],
 "metadata": {
  "kernelspec": {
   "display_name": "Python 3",
   "language": "python",
   "name": "python3"
  },
  "language_info": {
   "codemirror_mode": {
    "name": "ipython",
    "version": 3
   },
   "file_extension": ".py",
   "mimetype": "text/x-python",
   "name": "python",
   "nbconvert_exporter": "python",
   "pygments_lexer": "ipython3",
   "version": "3.9.13"
  }
 },
 "nbformat": 4,
 "nbformat_minor": 5
}
