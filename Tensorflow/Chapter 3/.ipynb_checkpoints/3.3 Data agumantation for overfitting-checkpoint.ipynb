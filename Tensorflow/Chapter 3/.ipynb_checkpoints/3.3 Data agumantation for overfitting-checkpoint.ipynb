{
 "cells": [
  {
   "cell_type": "markdown",
   "id": "5b5ec8c3",
   "metadata": {},
   "source": [
    "\n",
    "---\n",
    "\n",
    "# 🧠 What is **Data Augmentation**?\n",
    "\n",
    "---\n",
    "\n",
    "## 👶 Baby-Level Analogy\n",
    "\n",
    "Imagine you're teaching a robot to recognize **cats** 🐱. You have just **one photo of a cat**.\n",
    "\n",
    "You ask:\n",
    "\n",
    "* “What if I turn the photo a bit?” 🔁\n",
    "* “What if I zoom in?” 🔍\n",
    "* “What if I flip it horizontally?” 🔄\n",
    "\n",
    "It's still a **cat**, right?\n",
    "\n",
    "So, you create **new photos** from the original one by:\n",
    "\n",
    "* Rotating it 🌀\n",
    "* Zooming it 🔎\n",
    "* Flipping it ↔️\n",
    "* Adding noise 🌫️\n",
    "* Changing brightness ☀️\n",
    "\n",
    "That’s **data augmentation**:\n",
    "\n",
    "> 📈 Create many slightly different versions of the **same data** so the model becomes **smarter and more robust**.\n",
    "\n",
    "---\n",
    "\n",
    "# 📸 Why Use Data Augmentation?\n",
    "\n",
    "Because deep learning models are:\n",
    "\n",
    "* **Data-hungry monsters** 😋\n",
    "* They **overfit** easily if data is too small or too similar\n",
    "\n",
    "### 💡 Benefits:\n",
    "\n",
    "| Benefit                      | Why It Matters                          |\n",
    "| ---------------------------- | --------------------------------------- |\n",
    "| More data without collecting | Saves time and cost                     |\n",
    "| Makes model robust           | Learns to recognize things in all forms |\n",
    "| Reduces overfitting          | Avoids memorizing training data         |\n",
    "\n",
    "---\n",
    "\n",
    "# 🔁 Common Data Augmentation Techniques\n",
    "\n",
    "| Technique         | What It Does                      | Visual |\n",
    "| ----------------- | --------------------------------- | ------ |\n",
    "| `rotation`        | Rotates image by a few degrees    | 🔄     |\n",
    "| `width_shift`     | Moves image left or right         | ↔️     |\n",
    "| `height_shift`    | Moves image up or down            | ↕️     |\n",
    "| `zoom`            | Zooms in or out                   | 🔍     |\n",
    "| `horizontal_flip` | Flips the image left-to-right     | 🪞     |\n",
    "| `brightness`      | Makes the image lighter or darker | 🌞🌚   |\n",
    "| `noise`           | Adds grain/noise to the image     | 🌫️    |\n",
    "\n",
    "---\n",
    "\n",
    "# 💻 Code Example in Keras\n",
    "\n",
    "```python\n",
    "from tensorflow.keras.preprocessing.image import ImageDataGenerator\n",
    "\n",
    "datagen = ImageDataGenerator(\n",
    "    rotation_range=20,\n",
    "    width_shift_range=0.1,\n",
    "    height_shift_range=0.1,\n",
    "    zoom_range=0.2,\n",
    "    horizontal_flip=True,\n",
    "    fill_mode='nearest'\n",
    ")\n",
    "\n",
    "# Assuming you have X_train (images)\n",
    "datagen.fit(X_train)\n",
    "```\n",
    "\n",
    "Now each time your model sees a sample, it might see a **slightly modified version**.\n",
    "\n",
    "---\n",
    "\n",
    "## 📐 Visual Example:\n",
    "\n",
    "Original Image: 🐱\n",
    "\n",
    "* Rotated: 🐱↪️\n",
    "* Zoomed in: 🐱🔍\n",
    "* Flipped: 🐱↔️\n",
    "* Brighter: 🐱☀️\n",
    "* Blurred: 🐱🌫️\n",
    "\n",
    "All are still cats. But the model becomes **less sensitive to variation** and learns to focus on important parts.\n",
    "\n",
    "---\n",
    "\n",
    "## ⚠️ Notes:\n",
    "\n",
    "| Point                                  | Explanation                                 |\n",
    "| -------------------------------------- | ------------------------------------------- |\n",
    "| Only applied on training data          | Not on test/validation                      |\n",
    "| Doesn’t increase original dataset size | It just **changes it on the fly**           |\n",
    "| You can save augmented images too      | If needed, with `.flow()` or `.save_to_dir` |\n",
    "\n",
    "---\n",
    "\n",
    "# 🧠 TL;DR Summary\n",
    "\n",
    "| Term              | Meaning                                              |\n",
    "| ----------------- | ---------------------------------------------------- |\n",
    "| Data Augmentation | Creating **new training samples** from existing data |\n",
    "| Why               | To avoid overfitting, improve robustness             |\n",
    "| How               | Rotation, flipping, zooming, noise, etc.             |\n",
    "| When              | During training only                                 |\n",
    "| Tools             | `ImageDataGenerator`, `Albumentations`, etc.         |\n",
    "\n",
    "---\n",
    "\n",
    "## 💬 Final Analogy:\n",
    "\n",
    "> Teaching a child to recognize their mom — even if she wears sunglasses, turns sideways, or stands in the dark.\n",
    "\n",
    "That’s data augmentation.\n",
    "It teaches models to **generalize, not memorize** 🧠✨.\n",
    "\n",
    "---\n",
    "\n"
   ]
  },
  {
   "cell_type": "code",
   "execution_count": 5,
   "id": "7253fee4",
   "metadata": {},
   "outputs": [],
   "source": [
    "import tensorflow as tf\n",
    "import numpy as np\n",
    "import matplotlib.pyplot as plt\n",
    "import cv2\n",
    "import PIL\n",
    "from tensorflow import keras"
   ]
  },
  {
   "cell_type": "markdown",
   "id": "b62d93ff",
   "metadata": {},
   "source": [
    "Download the dataset from here \"https://storage.googleapis.com/download.tensorflow.org/example_images/flower_photos.tgz\""
   ]
  },
  {
   "cell_type": "code",
   "execution_count": 6,
   "id": "951aa47d",
   "metadata": {},
   "outputs": [
    {
     "name": "stdout",
     "output_type": "stream",
     "text": [
      " Volume in drive D is New Volume\n",
      " Volume Serial Number is 2CEE-1A5E\n",
      "\n",
      " Directory of d:\\Test\\Python\\Deep-Learning-Tuto\\Tensorflow\\Chapter 3\n",
      "\n",
      "06/17/2025  02:19 AM    <DIR>          .\n",
      "06/17/2025  02:15 AM    <DIR>          ..\n",
      "06/16/2025  03:11 AM         3,602,415 3.1 Convolutional Neural Network.ipynb\n",
      "06/16/2025  03:25 AM         1,817,917 3.2 Convolution Padding and Stride.ipynb\n",
      "06/17/2025  02:18 AM             7,443 3.3 Data agumantation for overfitting.ipynb\n",
      "06/17/2025  02:19 AM    <DIR>          datasets\n",
      "               3 File(s)      5,427,775 bytes\n",
      "               3 Dir(s)  179,979,198,464 bytes free\n"
     ]
    }
   ],
   "source": [
    "! dir"
   ]
  },
  {
   "cell_type": "code",
   "execution_count": 7,
   "id": "af77cf35",
   "metadata": {},
   "outputs": [],
   "source": [
    "dataset_url = \"https://storage.googleapis.com/download.tensorflow.org/example_images/flower_photos.tgz\"\n",
    "data_dir = tf.keras.utils.get_file(\"flower_photos\",origin=dataset_url,cache_dir=\".\",untar=True)"
   ]
  },
  {
   "cell_type": "code",
   "execution_count": 8,
   "id": "95bd7164",
   "metadata": {},
   "outputs": [
    {
     "data": {
      "text/plain": [
       "'.\\\\datasets\\\\flower_photos'"
      ]
     },
     "execution_count": 8,
     "metadata": {},
     "output_type": "execute_result"
    }
   ],
   "source": [
    "data_dir"
   ]
  },
  {
   "cell_type": "code",
   "execution_count": null,
   "id": "1d4b77a4",
   "metadata": {},
   "outputs": [],
   "source": []
  }
 ],
 "metadata": {
  "kernelspec": {
   "display_name": "Python 3",
   "language": "python",
   "name": "python3"
  },
  "language_info": {
   "codemirror_mode": {
    "name": "ipython",
    "version": 3
   },
   "file_extension": ".py",
   "mimetype": "text/x-python",
   "name": "python",
   "nbconvert_exporter": "python",
   "pygments_lexer": "ipython3",
   "version": "3.9.13"
  }
 },
 "nbformat": 4,
 "nbformat_minor": 5
}
